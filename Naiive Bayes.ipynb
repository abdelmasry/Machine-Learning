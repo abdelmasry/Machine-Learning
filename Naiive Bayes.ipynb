{
 "cells": [
  {
   "cell_type": "markdown",
   "source": [
    "Bayes Classifier ( sklearn built in)\n",
    "• Run it on iris built in dataset\n",
    "• Implement from scratch function: train_validate_test_split (data, labels, testRatio =0.3, valRatio =0.3)\n",
    "• Implement function: calculate_accuracy(predicted_y , y)"
   ],
   "metadata": {
    "collapsed": false,
    "pycharm": {
     "name": "#%% md\n"
    }
   }
  },
  {
   "cell_type": "code",
   "execution_count": 1,
   "outputs": [],
   "source": [
    "from random import randrange\n",
    "from sklearn.datasets import load_iris\n",
    "from sklearn.naive_bayes import GaussianNB\n",
    "\n",
    "X, y = load_iris(return_X_y=True)"
   ],
   "metadata": {
    "collapsed": false,
    "pycharm": {
     "name": "#%%\n"
    }
   }
  },
  {
   "cell_type": "code",
   "execution_count": 2,
   "outputs": [],
   "source": [
    "def train_validate_test_split(data, labels, testRatio=0.3, valRatio=0.3):\n",
    "    testdataX = list()\n",
    "    testlabelY = list()\n",
    "    dataset_copyX = list(data)\n",
    "    dataset_copyY = list(labels)\n",
    "    testSize = int(testRatio * len(data))\n",
    "    valSize = int(valRatio * len(data))\n",
    "    while len(testdataX) < testSize:\n",
    "            index = randrange(len(dataset_copyX))\n",
    "            testdataX.append(dataset_copyX.pop(index))\n",
    "            testlabelY.append(dataset_copyY.pop(index))\n",
    "    valDataX = list()\n",
    "    valLabel_Y = list()\n",
    "    while len(valDataX) < valSize:\n",
    "                index = randrange(len(dataset_copyX))\n",
    "                valDataX.append(dataset_copyX.pop(index))\n",
    "                valLabel_Y.append(dataset_copyY.pop(index))\n",
    "    traindataX = list(dataset_copyX)\n",
    "    trainlabelY = list(dataset_copyY)\n",
    "    return traindataX, valDataX, testdataX, trainlabelY, valLabel_Y, testlabelY\n"
   ],
   "metadata": {
    "collapsed": false,
    "pycharm": {
     "name": "#%%\n"
    }
   }
  },
  {
   "cell_type": "code",
   "execution_count": 3,
   "outputs": [],
   "source": [
    "\n",
    "def accuracy_score(y_actual, predicted):\n",
    "    score = 0\n",
    "    for i in range(len(y_actual)):\n",
    "        if y_actual[i] == predicted[i]:\n",
    "            score += 1\n",
    "    return score / float(len(y_actual)) * 100.0"
   ],
   "metadata": {
    "collapsed": false,
    "pycharm": {
     "name": "#%%\n"
    }
   }
  },
  {
   "cell_type": "code",
   "execution_count": 4,
   "outputs": [],
   "source": [
    "X_train, X_valid, X_test, y_train, y_valid, y_test = train_validate_test_split(X, y, 0.3, 0.3)\n"
   ],
   "metadata": {
    "collapsed": false,
    "pycharm": {
     "name": "#%%\n"
    }
   }
  },
  {
   "cell_type": "code",
   "execution_count": 5,
   "outputs": [
    {
     "name": "stdout",
     "output_type": "stream",
     "text": [
      "97.77777777777777\n"
     ]
    }
   ],
   "source": [
    "bayes = GaussianNB()\n",
    "\n",
    "bayes.fit(X_train, y_train)\n",
    "\n",
    "h_theta = bayes.predict(X_test)\n",
    "\n",
    "score = accuracy_score(y_test, h_theta)\n",
    "\n",
    "print(score)"
   ],
   "metadata": {
    "collapsed": false,
    "pycharm": {
     "name": "#%%\n"
    }
   }
  }
 ],
 "metadata": {
  "kernelspec": {
   "display_name": "Python 3",
   "language": "python",
   "name": "python3"
  },
  "language_info": {
   "codemirror_mode": {
    "name": "ipython",
    "version": 2
   },
   "file_extension": ".py",
   "mimetype": "text/x-python",
   "name": "python",
   "nbconvert_exporter": "python",
   "pygments_lexer": "ipython2",
   "version": "2.7.6"
  }
 },
 "nbformat": 4,
 "nbformat_minor": 0
}